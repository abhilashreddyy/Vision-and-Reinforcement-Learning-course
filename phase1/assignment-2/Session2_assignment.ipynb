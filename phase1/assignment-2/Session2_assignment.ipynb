{
 "cells": [
  {
   "cell_type": "markdown",
   "metadata": {
    "colab_type": "text",
    "id": "-nJ7YEw_vyjG"
   },
   "source": [
    "# **Not an ideal network**"
   ]
  },
  {
   "cell_type": "markdown",
   "metadata": {
    "colab_type": "text",
    "id": "fZEL6qdeDDoh"
   },
   "source": [
    "## Importing keras library"
   ]
  },
  {
   "cell_type": "code",
   "execution_count": 0,
   "metadata": {
    "colab": {
     "base_uri": "https://localhost:8080/",
     "height": 34
    },
    "colab_type": "code",
    "id": "kGWv5hBhv2jf",
    "outputId": "308151f2-d22e-4f1a-cfd7-92ac0e0a0501"
   },
   "outputs": [
    {
     "name": "stderr",
     "output_type": "stream",
     "text": [
      "Using TensorFlow backend.\n"
     ]
    }
   ],
   "source": [
    "# https://keras.io/\n",
    "!pip install -q keras\n",
    "import keras"
   ]
  },
  {
   "cell_type": "markdown",
   "metadata": {
    "colab_type": "text",
    "id": "caZdte_DDQE2"
   },
   "source": [
    "## Importing Different different classes in keras for building CNN"
   ]
  },
  {
   "cell_type": "code",
   "execution_count": 0,
   "metadata": {
    "colab": {},
    "colab_type": "code",
    "collapsed": true,
    "id": "wnMlDJQKv4VG"
   },
   "outputs": [],
   "source": [
    "import numpy as np\n",
    "\n",
    "from keras.models import Sequential\n",
    "from keras.layers import Flatten\n",
    "from keras.layers import Convolution2D\n",
    "from keras.utils import np_utils\n",
    "\n",
    "from keras.datasets import mnist\n"
   ]
  },
  {
   "cell_type": "markdown",
   "metadata": {
    "colab_type": "text",
    "id": "gFa4QxquDhU7"
   },
   "source": [
    "## Loading MNIST number dataset and creating train and test data"
   ]
  },
  {
   "cell_type": "code",
   "execution_count": 0,
   "metadata": {
    "colab": {},
    "colab_type": "code",
    "collapsed": true,
    "id": "8CdSu2lMwB9s"
   },
   "outputs": [],
   "source": [
    "(X_train, y_train), (X_test, y_test) = mnist.load_data()"
   ]
  },
  {
   "cell_type": "markdown",
   "metadata": {
    "colab_type": "text",
    "id": "50XloToND7K3"
   },
   "source": [
    "## Importing matplotlib and plotting a sample image from train dataset"
   ]
  },
  {
   "cell_type": "code",
   "execution_count": 0,
   "metadata": {
    "colab": {
     "base_uri": "https://localhost:8080/",
     "height": 304
    },
    "colab_type": "code",
    "id": "tLaDf0-rwCmj",
    "outputId": "0cfc1fee-b1f2-41e3-d38e-683a9e533c16"
   },
   "outputs": [
    {
     "name": "stdout",
     "output_type": "stream",
     "text": [
      "(60000, 28, 28)\n"
     ]
    },
    {
     "data": {
      "text/plain": [
       "<matplotlib.image.AxesImage at 0x7faf9068b898>"
      ]
     },
     "execution_count": 5,
     "metadata": {
      "tags": []
     },
     "output_type": "execute_result"
    },
    {
     "data": {
      "image/png": "[encoded data removed]",
      "text/plain": [
       "<Figure size 432x288 with 1 Axes>"
      ]
     },
     "metadata": {
      "tags": []
     },
     "output_type": "display_data"
    }
   ],
   "source": [
    "print (X_train.shape)\n",
    "from matplotlib import pyplot as plt\n",
    "%matplotlib inline\n",
    "plt.imshow(X_train[0])"
   ]
  },
  {
   "cell_type": "markdown",
   "metadata": {
    "colab_type": "text",
    "id": "VH4T42M7FWjP"
   },
   "source": []
  },
  {
   "cell_type": "markdown",
   "metadata": {
    "colab_type": "text",
    "id": "KOKzbn9KEVLs"
   },
   "source": [
    "## Changing shape of the image . To keep in a format of gray scale image \n",
    "NOTE : if it is RGB Image then we need to change the shape to (num of samples X 28X28X3 )"
   ]
  },
  {
   "cell_type": "code",
   "execution_count": 0,
   "metadata": {
    "colab": {},
    "colab_type": "code",
    "collapsed": true,
    "id": "erb11jNwwFwl"
   },
   "outputs": [],
   "source": [
    "X_train = X_train.reshape(X_train.shape[0], 28, 28,1)\n",
    "X_test = X_test.reshape(X_test.shape[0], 28, 28,1)"
   ]
  },
  {
   "cell_type": "markdown",
   "metadata": {
    "colab_type": "text",
    "id": "_Z-yU8Y2jttm"
   },
   "source": [
    "## Convert the data to float data type"
   ]
  },
  {
   "cell_type": "code",
   "execution_count": 0,
   "metadata": {
    "colab": {},
    "colab_type": "code",
    "collapsed": true,
    "id": "RLK4YDoRwHet"
   },
   "outputs": [],
   "source": [
    "X_train = X_train.astype('float32')\n",
    "X_test = X_test.astype('float32')\n",
    "X_train /= 255\n",
    "X_test /= 255"
   ]
  },
  {
   "cell_type": "code",
   "execution_count": 0,
   "metadata": {
    "colab": {
     "base_uri": "https://localhost:8080/",
     "height": 34
    },
    "colab_type": "code",
    "id": "JNKLOmhlwJQl",
    "outputId": "3b69adcb-7791-4f09-936d-3781044eb5b6"
   },
   "outputs": [
    {
     "data": {
      "text/plain": [
       "array([5, 0, 4, 1, 9, 2, 1, 3, 1, 4], dtype=uint8)"
      ]
     },
     "execution_count": 8,
     "metadata": {
      "tags": []
     },
     "output_type": "execute_result"
    }
   ],
   "source": [
    "y_train[:10]"
   ]
  },
  {
   "cell_type": "markdown",
   "metadata": {
    "colab_type": "text",
    "id": "Py1YEFqtj343"
   },
   "source": [
    "## One hot encoding "
   ]
  },
  {
   "cell_type": "code",
   "execution_count": 0,
   "metadata": {
    "colab": {},
    "colab_type": "code",
    "collapsed": true,
    "id": "YusMJguiwKsM"
   },
   "outputs": [],
   "source": [
    "# Convert 1-dimensional class arrays to 10-dimensional class matrices\n",
    "Y_train = np_utils.to_categorical(y_train, 10)\n",
    "Y_test = np_utils.to_categorical(y_test, 10)"
   ]
  },
  {
   "cell_type": "code",
   "execution_count": 0,
   "metadata": {
    "colab": {
     "base_uri": "https://localhost:8080/",
     "height": 193
    },
    "colab_type": "code",
    "id": "upxc99AswMW0",
    "outputId": "78b8bd05-3cce-4779-db61-c5620c010451"
   },
   "outputs": [
    {
     "data": {
      "text/plain": [
       "array([[0., 0., 0., 0., 0., 1., 0., 0., 0., 0.],\n",
       "       [1., 0., 0., 0., 0., 0., 0., 0., 0., 0.],\n",
       "       [0., 0., 0., 0., 1., 0., 0., 0., 0., 0.],\n",
       "       [0., 1., 0., 0., 0., 0., 0., 0., 0., 0.],\n",
       "       [0., 0., 0., 0., 0., 0., 0., 0., 0., 1.],\n",
       "       [0., 0., 1., 0., 0., 0., 0., 0., 0., 0.],\n",
       "       [0., 1., 0., 0., 0., 0., 0., 0., 0., 0.],\n",
       "       [0., 0., 0., 1., 0., 0., 0., 0., 0., 0.],\n",
       "       [0., 1., 0., 0., 0., 0., 0., 0., 0., 0.],\n",
       "       [0., 0., 0., 0., 1., 0., 0., 0., 0., 0.]], dtype=float32)"
      ]
     },
     "execution_count": 10,
     "metadata": {
      "tags": []
     },
     "output_type": "execute_result"
    }
   ],
   "source": [
    "Y_train[:10]\n"
   ]
  },
  {
   "cell_type": "markdown",
   "metadata": {
    "colab_type": "text",
    "id": "6eO2H4Klj-t1"
   },
   "source": [
    "## Buliding model structure\n",
    "\n",
    "This code chunk creates sequential model by stacking convolutions to build CNN\n",
    "\n",
    "Shape of channels in each layer\n",
    "  \n",
    "    channel     Kernel           channel\n",
    "    28X28X1   | 3X3X1X32      -> 26X26X32\n",
    "    26X26X32  | 3X3X32X64     -> 24X24X64\n",
    "    24X24X64  | 3X3X64X128    -> 22X22X128\n",
    "    \n",
    "    22X22X128 -maxpooling-> 11X11X128\n",
    "    \n",
    "    11X11X128 | 3X3X128X256   -> 9X9X256\n",
    "    9X9X256   | 3X3X256X512   -> 7X7X512\n",
    "    7X7X512   | 3X3X512X1024  -> 5X5X1024\n",
    "    5X5X1024  | 3X3X1024X2048 -> 3X3X2048\n",
    "    3X3X2048  | 3X3X2048X10   -> 1X1X10\n",
    "    \n",
    "    \n",
    "- Input channel dimensions are 28X28X1\n",
    "    \n",
    "> accuracy of the model is varying is abnormally from random to 80%"
   ]
  },
  {
   "cell_type": "code",
   "execution_count": 0,
   "metadata": {
    "colab": {
     "base_uri": "https://localhost:8080/",
     "height": 987
    },
    "colab_type": "code",
    "id": "irTVUE47wNwr",
    "outputId": "9df0e17c-b1d9-42d3-a1c0-e2d678afdae5"
   },
   "outputs": [
    {
     "name": "stderr",
     "output_type": "stream",
     "text": [
      "WARNING: Logging before flag parsing goes to stderr.\n",
      "W0730 18:47:24.573841 140393276036992 deprecation_wrapper.py:119] From /usr/local/lib/python3.6/dist-packages/keras/backend/tensorflow_backend.py:74: The name tf.get_default_graph is deprecated. Please use tf.compat.v1.get_default_graph instead.\n",
      "\n",
      "/usr/local/lib/python3.6/dist-packages/ipykernel_launcher.py:5: UserWarning: Update your `Conv2D` call to the Keras 2 API: `Conv2D(32, (3, 3), activation=\"relu\", input_shape=(28, 28, 1...)`\n",
      "  \"\"\"\n",
      "W0730 18:47:24.601439 140393276036992 deprecation_wrapper.py:119] From /usr/local/lib/python3.6/dist-packages/keras/backend/tensorflow_backend.py:517: The name tf.placeholder is deprecated. Please use tf.compat.v1.placeholder instead.\n",
      "\n",
      "W0730 18:47:24.605905 140393276036992 deprecation_wrapper.py:119] From /usr/local/lib/python3.6/dist-packages/keras/backend/tensorflow_backend.py:4138: The name tf.random_uniform is deprecated. Please use tf.random.uniform instead.\n",
      "\n",
      "/usr/local/lib/python3.6/dist-packages/ipykernel_launcher.py:6: UserWarning: Update your `Conv2D` call to the Keras 2 API: `Conv2D(64, (3, 3), activation=\"relu\")`\n",
      "  \n",
      "/usr/local/lib/python3.6/dist-packages/ipykernel_launcher.py:7: UserWarning: Update your `Conv2D` call to the Keras 2 API: `Conv2D(128, (3, 3), activation=\"relu\")`\n",
      "  import sys\n",
      "W0730 18:47:24.658534 140393276036992 deprecation_wrapper.py:119] From /usr/local/lib/python3.6/dist-packages/keras/backend/tensorflow_backend.py:3976: The name tf.nn.max_pool is deprecated. Please use tf.nn.max_pool2d instead.\n",
      "\n"
     ]
    },
    {
     "name": "stdout",
     "output_type": "stream",
     "text": [
      "_________________________________________________________________\n",
      "Layer (type)                 Output Shape              Param #   \n",
      "=================================================================\n",
      "conv2d_1 (Conv2D)            (None, 26, 26, 32)        320       \n",
      "_________________________________________________________________\n",
      "conv2d_2 (Conv2D)            (None, 24, 24, 64)        18496     \n",
      "_________________________________________________________________\n",
      "conv2d_3 (Conv2D)            (None, 22, 22, 128)       73856     \n",
      "_________________________________________________________________\n",
      "max_pooling2d_1 (MaxPooling2 (None, 11, 11, 128)       0         \n",
      "_________________________________________________________________\n",
      "conv2d_4 (Conv2D)            (None, 9, 9, 256)         295168    \n",
      "_________________________________________________________________\n",
      "conv2d_5 (Conv2D)            (None, 7, 7, 512)         1180160   \n",
      "_________________________________________________________________\n",
      "conv2d_6 (Conv2D)            (None, 5, 5, 1024)        4719616   \n",
      "_________________________________________________________________\n",
      "conv2d_7 (Conv2D)            (None, 3, 3, 2048)        18876416  \n",
      "_________________________________________________________________\n",
      "conv2d_8 (Conv2D)            (None, 1, 1, 10)          184330    \n",
      "_________________________________________________________________\n",
      "flatten_1 (Flatten)          (None, 10)                0         \n",
      "_________________________________________________________________\n",
      "activation_1 (Activation)    (None, 10)                0         \n",
      "=================================================================\n",
      "Total params: 25,348,362\n",
      "Trainable params: 25,348,362\n",
      "Non-trainable params: 0\n",
      "_________________________________________________________________\n"
     ]
    },
    {
     "name": "stderr",
     "output_type": "stream",
     "text": [
      "/usr/local/lib/python3.6/dist-packages/ipykernel_launcher.py:11: UserWarning: Update your `Conv2D` call to the Keras 2 API: `Conv2D(256, (3, 3), activation=\"relu\")`\n",
      "  # This is added back by InteractiveShellApp.init_path()\n",
      "/usr/local/lib/python3.6/dist-packages/ipykernel_launcher.py:12: UserWarning: Update your `Conv2D` call to the Keras 2 API: `Conv2D(512, (3, 3), activation=\"relu\")`\n",
      "  if sys.path[0] == '':\n",
      "/usr/local/lib/python3.6/dist-packages/ipykernel_launcher.py:13: UserWarning: Update your `Conv2D` call to the Keras 2 API: `Conv2D(1024, (3, 3), activation=\"relu\")`\n",
      "  del sys.path[0]\n",
      "/usr/local/lib/python3.6/dist-packages/ipykernel_launcher.py:14: UserWarning: Update your `Conv2D` call to the Keras 2 API: `Conv2D(2048, (3, 3), activation=\"relu\")`\n",
      "  \n",
      "/usr/local/lib/python3.6/dist-packages/ipykernel_launcher.py:15: UserWarning: Update your `Conv2D` call to the Keras 2 API: `Conv2D(10, (3, 3), activation=\"relu\")`\n",
      "  from ipykernel import kernelapp as app\n"
     ]
    }
   ],
   "source": [
    "from keras.layers import Activation, MaxPooling2D\n",
    "\n",
    "model = Sequential() \n",
    "model.add(Convolution2D(32, 3, 3, activation='relu', input_shape=(28,28,1)))# 3X3  Global receptive field\n",
    "model.add(Convolution2D(64, 3, 3, activation='relu'))# 5X5\n",
    "model.add(Convolution2D(128, 3, 3, activation='relu'))# 7X7\n",
    "\n",
    "model.add(MaxPooling2D(pool_size=(2, 2)))# 14X14\n",
    "\n",
    "model.add(Convolution2D(256, 3, 3, activation='relu'))# 16X16\n",
    "model.add(Convolution2D(512, 3, 3, activation='relu'))# 18X18\n",
    "model.add(Convolution2D(1024, 3, 3, activation='relu'))# 20X20\n",
    "model.add(Convolution2D(2048, 3, 3, activation='relu'))# 22X22\n",
    "model.add(Convolution2D(10, 3, 3, activation='relu'))  # 24X24  \n",
    "\n",
    "model.add(Flatten())\n",
    "model.add(Activation('softmax'))\n",
    "\n",
    "model.summary()\n"
   ]
  },
  {
   "cell_type": "markdown",
   "metadata": {
    "colab_type": "text",
    "id": "dv96pb5j_2KM"
   },
   "source": [
    "## model.compile()\n",
    "\n",
    "- It sets loss function \n",
    "- It sets optmiser type (with optimser type __we can set learning rate__ too)\n",
    "- It alse sets metrics type . In this case it is accuracy\n",
    "\n",
    "It just specifies the network about what to use while converging to optimal weights\n",
    "\n",
    "Categorical Cross Entropy :\n",
    "\n",
    "![Categorical cross entropy image](https://latex.codecogs.com/gif.latex?CE&space;=&space;-\\sum_{i}^{C}t_{i}&space;log&space;(s_{i}))\n",
    "\n",
    "- where __Ti__ is ground truth its value will be one only for corresponding category \n",
    "- __Si__ is CNN  score for class\n",
    "- __C__ number of categories\n"
   ]
  },
  {
   "cell_type": "code",
   "execution_count": 0,
   "metadata": {
    "colab": {
     "base_uri": "https://localhost:8080/",
     "height": 107
    },
    "colab_type": "code",
    "id": "VYZOpRb6yG7_",
    "outputId": "d13ffdf1-4278-487a-8fcd-339fd0a17c9f"
   },
   "outputs": [
    {
     "name": "stderr",
     "output_type": "stream",
     "text": [
      "W0730 18:47:25.103065 140393276036992 deprecation_wrapper.py:119] From /usr/local/lib/python3.6/dist-packages/keras/optimizers.py:790: The name tf.train.Optimizer is deprecated. Please use tf.compat.v1.train.Optimizer instead.\n",
      "\n",
      "W0730 18:47:25.140968 140393276036992 deprecation_wrapper.py:119] From /usr/local/lib/python3.6/dist-packages/keras/backend/tensorflow_backend.py:3295: The name tf.log is deprecated. Please use tf.math.log instead.\n",
      "\n"
     ]
    }
   ],
   "source": [
    "model.compile(loss='categorical_crossentropy',\n",
    "             optimizer='adam',\n",
    "             metrics=['accuracy'])"
   ]
  },
  {
   "cell_type": "markdown",
   "metadata": {
    "colab_type": "text",
    "id": "sr3SD-aeFZi6"
   },
   "source": [
    "## model.fit()\n",
    "\n",
    "- trains the model for a given number of epocs (iterations on entire dataset)\n",
    "- batch size refers to number of images to consider while each traversal trough image"
   ]
  },
  {
   "cell_type": "code",
   "execution_count": 0,
   "metadata": {
    "colab": {
     "base_uri": "https://localhost:8080/",
     "height": 530
    },
    "colab_type": "code",
    "id": "5O248wVQyMft",
    "outputId": "bb4521ba-7428-4991-a013-6de365920335"
   },
   "outputs": [
    {
     "name": "stderr",
     "output_type": "stream",
     "text": [
      "/usr/local/lib/python3.6/dist-packages/ipykernel_launcher.py:1: UserWarning: The `nb_epoch` argument in `fit` has been renamed `epochs`.\n",
      "  \"\"\"Entry point for launching an IPython kernel.\n",
      "W0730 18:47:25.881978 140393276036992 deprecation.py:323] From /usr/local/lib/python3.6/dist-packages/tensorflow/python/ops/math_grad.py:1250: add_dispatch_support.<locals>.wrapper (from tensorflow.python.ops.array_ops) is deprecated and will be removed in a future version.\n",
      "Instructions for updating:\n",
      "Use tf.where in 2.0, which has the same broadcast rule as np.where\n",
      "W0730 18:47:25.990747 140393276036992 deprecation_wrapper.py:119] From /usr/local/lib/python3.6/dist-packages/keras/backend/tensorflow_backend.py:986: The name tf.assign_add is deprecated. Please use tf.compat.v1.assign_add instead.\n",
      "\n"
     ]
    },
    {
     "name": "stdout",
     "output_type": "stream",
     "text": [
      "Epoch 1/10\n",
      "60000/60000 [==============================] - 224s 4ms/step - loss: 1.6801 - acc: 0.3849\n",
      "Epoch 2/10\n",
      "60000/60000 [==============================] - 220s 4ms/step - loss: 1.4219 - acc: 0.4892\n",
      "Epoch 3/10\n",
      "60000/60000 [==============================] - 220s 4ms/step - loss: 1.4118 - acc: 0.4916\n",
      "Epoch 4/10\n",
      "60000/60000 [==============================] - 220s 4ms/step - loss: 1.4070 - acc: 0.4930\n",
      "Epoch 5/10\n",
      "60000/60000 [==============================] - 219s 4ms/step - loss: 1.4042 - acc: 0.4936\n",
      "Epoch 6/10\n",
      "60000/60000 [==============================] - 219s 4ms/step - loss: 1.3916 - acc: 0.4942\n",
      "Epoch 7/10\n",
      "60000/60000 [==============================] - 219s 4ms/step - loss: 1.1798 - acc: 0.4948\n",
      "Epoch 8/10\n",
      "60000/60000 [==============================] - 220s 4ms/step - loss: 1.1728 - acc: 0.4956\n",
      "Epoch 9/10\n",
      "60000/60000 [==============================] - 219s 4ms/step - loss: 1.1731 - acc: 0.4958\n",
      "Epoch 10/10\n",
      "60000/60000 [==============================] - 219s 4ms/step - loss: 1.1702 - acc: 0.4961\n"
     ]
    },
    {
     "data": {
      "text/plain": [
       "<keras.callbacks.History at 0x7faf90665630>"
      ]
     },
     "execution_count": 13,
     "metadata": {
      "tags": []
     },
     "output_type": "execute_result"
    }
   ],
   "source": [
    "model.fit(X_train, Y_train, batch_size=32, nb_epoch=10, verbose=1) #1"
   ]
  },
  {
   "cell_type": "markdown",
   "metadata": {
    "colab_type": "text",
    "id": "3MDYAM6HFwu0"
   },
   "source": [
    "## model.evaluate()\n",
    "\n",
    "- returns loss value and metrics of test data"
   ]
  },
  {
   "cell_type": "code",
   "execution_count": 0,
   "metadata": {
    "colab": {},
    "colab_type": "code",
    "collapsed": true,
    "id": "Sst4KneiyOL5"
   },
   "outputs": [],
   "source": [
    "score = model.evaluate(X_test, Y_test, verbose=0)"
   ]
  },
  {
   "cell_type": "code",
   "execution_count": 0,
   "metadata": {
    "colab": {
     "base_uri": "https://localhost:8080/",
     "height": 34
    },
    "colab_type": "code",
    "id": "m60AlOk9EgYf",
    "outputId": "5b65c21b-a6a4-4f2d-cd54-cdf75e8de1be"
   },
   "outputs": [
    {
     "name": "stdout",
     "output_type": "stream",
     "text": [
      "[1.1669568979263305, 0.4989]\n"
     ]
    }
   ],
   "source": [
    "print(score) #Loss value and accuracy of test data"
   ]
  },
  {
   "cell_type": "code",
   "execution_count": 0,
   "metadata": {
    "colab": {},
    "colab_type": "code",
    "collapsed": true,
    "id": "hwLSXt7nyn_0"
   },
   "outputs": [],
   "source": [
    "y_pred = model.predict(X_test)"
   ]
  },
  {
   "cell_type": "code",
   "execution_count": 0,
   "metadata": {
    "colab": {
     "base_uri": "https://localhost:8080/",
     "height": 351
    },
    "colab_type": "code",
    "id": "WWKKoOKwyppN",
    "outputId": "1023f716-b1eb-4d06-881b-ce15f446a7fa"
   },
   "outputs": [
    {
     "name": "stdout",
     "output_type": "stream",
     "text": [
      "[[2.4753901e-09 2.4753901e-09 2.4753901e-09 2.4753901e-09 2.4753901e-09\n",
      "  2.4753901e-09 2.4753901e-09 1.0000000e+00 2.4753901e-09 2.4753901e-09]\n",
      " [3.6983094e-09 3.6983094e-09 1.0000000e+00 3.6983094e-09 3.6983094e-09\n",
      "  3.6983094e-09 3.6983094e-09 3.6983094e-09 3.6983094e-09 3.6983094e-09]\n",
      " [1.0000000e-01 1.0000000e-01 1.0000000e-01 1.0000000e-01 1.0000000e-01\n",
      "  1.0000000e-01 1.0000000e-01 1.0000000e-01 1.0000000e-01 1.0000000e-01]\n",
      " [9.9999571e-01 4.8176599e-07 4.8176599e-07 4.8176599e-07 4.8176599e-07\n",
      "  4.8176599e-07 4.8176599e-07 4.8176599e-07 4.8176599e-07 4.8176599e-07]\n",
      " [1.1148201e-09 1.1148201e-09 1.1148201e-09 1.1148201e-09 9.9999976e-01\n",
      "  1.1148201e-09 1.1148201e-09 1.1148201e-09 1.1148201e-09 2.1141754e-07]\n",
      " [1.0000000e-01 1.0000000e-01 1.0000000e-01 1.0000000e-01 1.0000000e-01\n",
      "  1.0000000e-01 1.0000000e-01 1.0000000e-01 1.0000000e-01 1.0000000e-01]\n",
      " [6.2420651e-05 6.2420651e-05 6.2420651e-05 6.2420651e-05 9.9942470e-01\n",
      "  6.2420651e-05 6.2420651e-05 6.2420651e-05 6.2420651e-05 7.5845644e-05]\n",
      " [3.8479714e-14 3.8479714e-14 3.8479714e-14 3.8479714e-14 3.8479714e-14\n",
      "  3.8479714e-14 3.8479714e-14 3.8479714e-14 3.8479714e-14 1.0000000e+00]\n",
      " [1.0000000e-01 1.0000000e-01 1.0000000e-01 1.0000000e-01 1.0000000e-01\n",
      "  1.0000000e-01 1.0000000e-01 1.0000000e-01 1.0000000e-01 1.0000000e-01]]\n",
      "[7 2 1 0 4 1 4 9 5]\n"
     ]
    }
   ],
   "source": [
    "print(y_pred[:9])\n",
    "print(y_test[:9])"
   ]
  },
  {
   "cell_type": "markdown",
   "metadata": {
    "colab_type": "text",
    "id": "gfjozKKkTZ50"
   },
   "source": [
    "## what is wrong with the network !!!\n",
    "![possibilities](images/whatswrong.png)\n",
    "\n",
    "    from to the above figure I think there could be two possibilities to the network for not working\n",
    "\n",
    "**Some observations :**\n",
    "\n",
    "- Loss is different everytime the model is ran.\n",
    "  - __Accuracy is varying from random accuracy to 80%__\n",
    "![single row observation](images/samenumberrow.PNG)\n",
    "- Some times network is failing to learn. Output is 1 for every output.\n",
    "\n",
    "\n",
    "\n",
    "\n",
    "- __Decreased total number of parameters this gave an accuracy of 99.56%__. I have used following kernels in each layer\n",
    "![accuracy](images/good_accuracy.PNG)\n",
    "Shape of channels and kernels in each layer\n",
    "\n",
    "      channel     Kernel           channel\n",
    "      28X28X1   | 3X3X1X32      -> 26X26X32\n",
    "      26X26X32  | 3X3X32X64     -> 24X24X64\n",
    "      24X24X64  | 3X3X64X64     -> 22X22X64\n",
    "\n",
    "      22X22X64 -maxpooling-> 11X11X64\n",
    "\n",
    "      11X11X64  | 3X3X64X128    -> 9X9X128\n",
    "      9X9X128   | 3X3X128X128   -> 7X7X128\n",
    "      7X7X128   | 3X3X128X256   -> 5X5X256\n",
    "      5X5X256   | 3X3X256X128   -> 3X3X128\n",
    "      3X3X128   | 3X3X128X10    -> 1X1X10\n",
    "\n",
    "Total Trainable params : 878,922 \n",
    "\n",
    "__Possible reasons for abnormal behaviour of network :__\n",
    "\n",
    "- __Network have more number of parameters than required for a simple MNIST data__. As a result the hyperplane where the model is trying to find the optimal parameters become more complex as shown in below figure.\n",
    "![regression example](images/parameterfinding.jpg)\n",
    "- As a result probability of reaching the global optimum or any set of good parameters have reduced.\n",
    "- (most probably I think)Thats why the accuracy of the network is varying every time.\n",
    "- It might be because of __abruptly reducing  the number of Channels from 2048 to 10 in final layer__. This could be causing information loss and sometimes not allowing network to learn anything.\n",
    "\n",
    "__Doubt : Why GRF at final layer is 24 and why not 28. Because final layer convolved to 1X1X10 but how come GRE not 28. If possible please try to write answer in comments :-)__\n",
    "\n",
    "All experiments i did on the network are present in [this](https://colab.research.google.com/drive/1sbkYMmxz11B9ce6IP3Ey9o8TV81XDvFL) colab file .\n",
    "  \n"
   ]
  },
  {
   "cell_type": "code",
   "execution_count": 0,
   "metadata": {
    "colab": {},
    "colab_type": "code",
    "collapsed": true,
    "id": "AhhnKGjXGeI7"
   },
   "outputs": [],
   "source": []
  }
 ],
 "metadata": {
  "accelerator": "GPU",
  "colab": {
   "collapsed_sections": [],
   "name": "Session2 assignment.ipynb",
   "provenance": [],
   "version": "0.3.2"
  },
  "kernelspec": {
   "display_name": "Python 3",
   "language": "python",
   "name": "python3"
  },
  "language_info": {
   "codemirror_mode": {
    "name": "ipython",
    "version": 3
   },
   "file_extension": ".py",
   "mimetype": "text/x-python",
   "name": "python",
   "nbconvert_exporter": "python",
   "pygments_lexer": "ipython3",
   "version": "3.6.5"
  }
 },
 "nbformat": 4,
 "nbformat_minor": 1
}
